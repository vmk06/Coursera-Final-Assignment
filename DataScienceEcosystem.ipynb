{
 "cells": [
  {
   "cell_type": "markdown",
   "id": "2511d52a-2ddd-4b76-880b-29dc99ac6a0b",
   "metadata": {},
   "source": [
    "# Data Science Tools and Ecosystem"
   ]
  },
  {
   "cell_type": "markdown",
   "id": "2ceba6f6-c18d-48fd-a2aa-7f9a1767c05a",
   "metadata": {},
   "source": [
    "##### In this notebook, Data Science Tools and Ecosystem are summarized."
   ]
  },
  {
   "cell_type": "markdown",
   "id": "49f766f8-ec0a-4234-ba13-086d033d7e8d",
   "metadata": {},
   "source": [
    "**Objectives**\n",
    "\n",
    "* Popular languages for Data Scientists\n",
    "* Most commonly used libraries by Data Scientists\n",
    "* A few development environment\n",
    "* How to evaluate the arithmetic operations in Jupyter?\n"
   ]
  },
  {
   "cell_type": "markdown",
   "id": "8cfa0f71-1708-4b78-a679-d4124605bbc4",
   "metadata": {},
   "source": [
    "Some of the popular languages that Data Scientists use are:\n",
    "1. Python\n",
    "2. R\n",
    "3. SQL"
   ]
  },
  {
   "cell_type": "markdown",
   "id": "7427a08f-c65c-4551-893a-b0e5a536c1a0",
   "metadata": {},
   "source": [
    "Some of the commonly used libraries used by Data Scientists include:\n",
    "1. Pandas\n",
    "2. Numpy\n",
    "3. Matpoltlib\n",
    "4. scikit-learn\n",
    "5. Pytorch\n",
    "6. Keras\n",
    "7. Tensorflow"
   ]
  },
  {
   "cell_type": "markdown",
   "id": "8130a448-a0a2-470d-921d-d48f838a78d1",
   "metadata": {},
   "source": [
    "| Data Science Tools|\n",
    "---------------------\n",
    "| Jupyter lab |\n",
    "| R studio |\n",
    "| Spyder |\n",
    "| Apache Zeppalin |\n",
    "\n"
   ]
  },
  {
   "cell_type": "markdown",
   "id": "3d7fcdce-7ab4-4c1a-ae68-196570d95f21",
   "metadata": {},
   "source": [
    "### Below are a few examples of evaluating arithmetic expressions in Python"
   ]
  },
  {
   "cell_type": "code",
   "execution_count": 4,
   "id": "73300905-5ec8-4c94-94a8-1dc8ea60d008",
   "metadata": {},
   "outputs": [
    {
     "data": {
      "text/plain": [
       "17"
      ]
     },
     "execution_count": 4,
     "metadata": {},
     "output_type": "execute_result"
    }
   ],
   "source": [
    "# This is a simple arithmetic expression to mutiply then add integers\n",
    "\n",
    "(3*4)+5"
   ]
  },
  {
   "cell_type": "code",
   "execution_count": 10,
   "id": "4b4e966c-5d4b-4936-80ce-cfb73596eb5f",
   "metadata": {
    "scrolled": true
   },
   "outputs": [
    {
     "data": {
      "text/plain": [
       "3.0"
      ]
     },
     "execution_count": 10,
     "metadata": {},
     "output_type": "execute_result"
    }
   ],
   "source": [
    "# This will convert 200 minutes to hours by diving by 60\n",
    "\n",
    "round(200/60,0)"
   ]
  },
  {
   "cell_type": "markdown",
   "id": "44ed1b2f-8342-426b-950f-8e0355544941",
   "metadata": {},
   "source": [
    "## Author\n",
    "Venkatesh Masaipet Kammari"
   ]
  },
  {
   "cell_type": "code",
   "execution_count": null,
   "id": "e69b9331-b8d5-4558-be02-92ca607be1c7",
   "metadata": {},
   "outputs": [],
   "source": []
  }
 ],
 "metadata": {
  "kernelspec": {
   "display_name": "Python 3 (ipykernel)",
   "language": "python",
   "name": "python3"
  },
  "language_info": {
   "codemirror_mode": {
    "name": "ipython",
    "version": 3
   },
   "file_extension": ".py",
   "mimetype": "text/x-python",
   "name": "python",
   "nbconvert_exporter": "python",
   "pygments_lexer": "ipython3",
   "version": "3.11.7"
  }
 },
 "nbformat": 4,
 "nbformat_minor": 5
}
